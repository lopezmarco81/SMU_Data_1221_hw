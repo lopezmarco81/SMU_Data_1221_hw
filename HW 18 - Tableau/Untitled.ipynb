{
 "cells": [
  {
   "cell_type": "code",
   "execution_count": 1,
   "id": "a52167e2",
   "metadata": {},
   "outputs": [],
   "source": [
    "import pandas as pd\n",
    "import numpy as np"
   ]
  },
  {
   "cell_type": "code",
   "execution_count": 2,
   "id": "b10a2de3",
   "metadata": {},
   "outputs": [
    {
     "name": "stdout",
     "output_type": "stream",
     "text": [
      "01\n",
      "02\n",
      "03\n",
      "04\n"
     ]
    }
   ],
   "source": [
    "months = [\"01\", \"02\", \"03\", \"04\"]\n",
    "main_df = pd.DataFrame()\n",
    "\n",
    "for month in months:\n",
    "    print(month)\n",
    "    filepath = f\"csv/2022{month}-citibike-tripdata.csv\"\n",
    "    df = pd.read_csv(filepath, low_memory=False)\n",
    "    df = df.sample(frac=0.025, random_state=42)\n",
    "    main_df = main_df.append(df)\n",
    "    \n",
    "main_df = main_df.reset_index(drop=True)"
   ]
  },
  {
   "cell_type": "code",
   "execution_count": 3,
   "id": "4847c74d",
   "metadata": {},
   "outputs": [
    {
     "data": {
      "text/plain": [
       "Index                     128\n",
       "ride_id               1299832\n",
       "rideable_type         1299832\n",
       "started_at            1299832\n",
       "ended_at              1299832\n",
       "start_station_name    1299832\n",
       "start_station_id      1299832\n",
       "end_station_name      1299832\n",
       "end_station_id        1299832\n",
       "start_lat             1299832\n",
       "start_lng             1299832\n",
       "end_lat               1299832\n",
       "end_lng               1299832\n",
       "member_casual         1299832\n",
       "dtype: int64"
      ]
     },
     "execution_count": 3,
     "metadata": {},
     "output_type": "execute_result"
    }
   ],
   "source": [
    "main_df.memory_usage()"
   ]
  },
  {
   "cell_type": "code",
   "execution_count": 4,
   "id": "acce7f8c",
   "metadata": {},
   "outputs": [],
   "source": [
    "main_df.to_csv(\"2022_citibike_rides_sample2.csv\", index=False)"
   ]
  },
  {
   "cell_type": "code",
   "execution_count": null,
   "id": "1e2a61dd",
   "metadata": {},
   "outputs": [],
   "source": []
  },
  {
   "cell_type": "code",
   "execution_count": null,
   "id": "9fbdd933",
   "metadata": {},
   "outputs": [],
   "source": []
  },
  {
   "cell_type": "code",
   "execution_count": null,
   "id": "6c01541d",
   "metadata": {},
   "outputs": [],
   "source": []
  },
  {
   "cell_type": "code",
   "execution_count": null,
   "id": "a4daa7cd",
   "metadata": {},
   "outputs": [],
   "source": []
  },
  {
   "cell_type": "code",
   "execution_count": null,
   "id": "028373cc",
   "metadata": {},
   "outputs": [],
   "source": []
  },
  {
   "cell_type": "code",
   "execution_count": null,
   "id": "a6a9fb2a",
   "metadata": {},
   "outputs": [],
   "source": []
  }
 ],
 "metadata": {
  "kernelspec": {
   "display_name": "Python 3 (ipykernel)",
   "language": "python",
   "name": "python3"
  },
  "language_info": {
   "codemirror_mode": {
    "name": "ipython",
    "version": 3
   },
   "file_extension": ".py",
   "mimetype": "text/x-python",
   "name": "python",
   "nbconvert_exporter": "python",
   "pygments_lexer": "ipython3",
   "version": "3.9.7"
  }
 },
 "nbformat": 4,
 "nbformat_minor": 5
}
